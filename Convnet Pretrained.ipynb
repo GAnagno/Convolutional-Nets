{
 "cells": [
  {
   "cell_type": "markdown",
   "metadata": {},
   "source": [
    "# Using a pre-trained convnet"
   ]
  },
  {
   "cell_type": "code",
   "execution_count": 1,
   "metadata": {},
   "outputs": [
    {
     "name": "stderr",
     "output_type": "stream",
     "text": [
      "Using TensorFlow backend.\n"
     ]
    },
    {
     "data": {
      "text/plain": [
       "'2.2.4'"
      ]
     },
     "execution_count": 1,
     "metadata": {},
     "output_type": "execute_result"
    }
   ],
   "source": [
    "import keras\n",
    "keras.__version__"
   ]
  },
  {
   "cell_type": "markdown",
   "metadata": {},
   "source": [
    "## Feature extraction"
   ]
  },
  {
   "cell_type": "code",
   "execution_count": 2,
   "metadata": {},
   "outputs": [],
   "source": [
    "from keras.applications import VGG16\n",
    "\n",
    "conv_base = VGG16(weights='imagenet',\n",
    "                  include_top=False,\n",
    "                  input_shape=(150, 150, 3))"
   ]
  },
  {
   "cell_type": "code",
   "execution_count": 3,
   "metadata": {},
   "outputs": [
    {
     "name": "stdout",
     "output_type": "stream",
     "text": [
      "_________________________________________________________________\n",
      "Layer (type)                 Output Shape              Param #   \n",
      "=================================================================\n",
      "input_1 (InputLayer)         (None, 150, 150, 3)       0         \n",
      "_________________________________________________________________\n",
      "block1_conv1 (Conv2D)        (None, 150, 150, 64)      1792      \n",
      "_________________________________________________________________\n",
      "block1_conv2 (Conv2D)        (None, 150, 150, 64)      36928     \n",
      "_________________________________________________________________\n",
      "block1_pool (MaxPooling2D)   (None, 75, 75, 64)        0         \n",
      "_________________________________________________________________\n",
      "block2_conv1 (Conv2D)        (None, 75, 75, 128)       73856     \n",
      "_________________________________________________________________\n",
      "block2_conv2 (Conv2D)        (None, 75, 75, 128)       147584    \n",
      "_________________________________________________________________\n",
      "block2_pool (MaxPooling2D)   (None, 37, 37, 128)       0         \n",
      "_________________________________________________________________\n",
      "block3_conv1 (Conv2D)        (None, 37, 37, 256)       295168    \n",
      "_________________________________________________________________\n",
      "block3_conv2 (Conv2D)        (None, 37, 37, 256)       590080    \n",
      "_________________________________________________________________\n",
      "block3_conv3 (Conv2D)        (None, 37, 37, 256)       590080    \n",
      "_________________________________________________________________\n",
      "block3_pool (MaxPooling2D)   (None, 18, 18, 256)       0         \n",
      "_________________________________________________________________\n",
      "block4_conv1 (Conv2D)        (None, 18, 18, 512)       1180160   \n",
      "_________________________________________________________________\n",
      "block4_conv2 (Conv2D)        (None, 18, 18, 512)       2359808   \n",
      "_________________________________________________________________\n",
      "block4_conv3 (Conv2D)        (None, 18, 18, 512)       2359808   \n",
      "_________________________________________________________________\n",
      "block4_pool (MaxPooling2D)   (None, 9, 9, 512)         0         \n",
      "_________________________________________________________________\n",
      "block5_conv1 (Conv2D)        (None, 9, 9, 512)         2359808   \n",
      "_________________________________________________________________\n",
      "block5_conv2 (Conv2D)        (None, 9, 9, 512)         2359808   \n",
      "_________________________________________________________________\n",
      "block5_conv3 (Conv2D)        (None, 9, 9, 512)         2359808   \n",
      "_________________________________________________________________\n",
      "block5_pool (MaxPooling2D)   (None, 4, 4, 512)         0         \n",
      "=================================================================\n",
      "Total params: 14,714,688\n",
      "Trainable params: 14,714,688\n",
      "Non-trainable params: 0\n",
      "_________________________________________________________________\n"
     ]
    }
   ],
   "source": [
    "conv_base.summary()"
   ]
  },
  {
   "cell_type": "code",
   "execution_count": 17,
   "metadata": {},
   "outputs": [],
   "source": [
    "import os\n",
    "import numpy as np\n",
    "from keras.preprocessing.image import ImageDataGenerator\n",
    "\n",
    "base_dir = '/Users/GAO/Downloads/cats_and_dogs_small'\n",
    "\n",
    "train_dir = os.path.join(base_dir, 'train')\n",
    "validation_dir = os.path.join(base_dir, 'validation')\n",
    "test_dir = os.path.join(base_dir, 'test')\n",
    "\n",
    "datagen = ImageDataGenerator(rescale=1./255)\n",
    "batch_size = 20"
   ]
  },
  {
   "cell_type": "code",
   "execution_count": 19,
   "metadata": {},
   "outputs": [],
   "source": [
    "def extract_features(directory, sample_count):\n",
    "    features = np.zeros(shape=(sample_count, 4, 4, 512))\n",
    "    labels = np.zeros(shape=(sample_count))\n",
    "    generator = datagen.flow_from_directory(\n",
    "        directory,\n",
    "        target_size=(150, 150),\n",
    "        batch_size=batch_size,\n",
    "        class_mode='binary')\n",
    "    i = 0\n",
    "    for inputs_batch, labels_batch in generator:\n",
    "        features_batch = conv_base.predict(inputs_batch)\n",
    "        features[i * batch_size : (i + 1) * batch_size] = features_batch\n",
    "        labels[i * batch_size : (i + 1) * batch_size] = labels_batch\n",
    "        i += 1\n",
    "        if i * batch_size >= sample_count:\n",
    "            # Note that since generators yield data indefinitely in a loop,\n",
    "            # we must `break` after every image has been seen once.\n",
    "            break\n",
    "    return features, labels"
   ]
  },
  {
   "cell_type": "code",
   "execution_count": 20,
   "metadata": {},
   "outputs": [
    {
     "name": "stdout",
     "output_type": "stream",
     "text": [
      "Found 2000 images belonging to 2 classes.\n",
      "Found 1000 images belonging to 2 classes.\n",
      "Found 1000 images belonging to 2 classes.\n"
     ]
    }
   ],
   "source": [
    "train_features, train_labels = extract_features(train_dir, 2000)\n",
    "validation_features, validation_labels = extract_features(validation_dir, 1000)\n",
    "test_features, test_labels = extract_features(test_dir, 1000)"
   ]
  },
  {
   "cell_type": "code",
   "execution_count": 21,
   "metadata": {},
   "outputs": [],
   "source": [
    "train_features = np.reshape(train_features, (2000, 4 * 4 * 512))\n",
    "validation_features = np.reshape(validation_features, (1000, 4 * 4 * 512))\n",
    "test_features = np.reshape(test_features, (1000, 4 * 4 * 512))"
   ]
  },
  {
   "cell_type": "code",
   "execution_count": 22,
   "metadata": {},
   "outputs": [
    {
     "name": "stdout",
     "output_type": "stream",
     "text": [
      "Train on 2000 samples, validate on 1000 samples\n",
      "Epoch 1/30\n",
      "2000/2000 [==============================] - 2s 1ms/step - loss: 0.6156 - acc: 0.6585 - val_loss: 0.4562 - val_acc: 0.8090\n",
      "Epoch 2/30\n",
      "2000/2000 [==============================] - 1s 553us/step - loss: 0.4324 - acc: 0.8115 - val_loss: 0.3651 - val_acc: 0.8630\n",
      "Epoch 3/30\n",
      "2000/2000 [==============================] - 1s 563us/step - loss: 0.3543 - acc: 0.8495 - val_loss: 0.3255 - val_acc: 0.8760\n",
      "Epoch 4/30\n",
      "2000/2000 [==============================] - 1s 556us/step - loss: 0.3195 - acc: 0.8720 - val_loss: 0.3062 - val_acc: 0.8720\n",
      "Epoch 5/30\n",
      "2000/2000 [==============================] - 1s 561us/step - loss: 0.2803 - acc: 0.8840 - val_loss: 0.2921 - val_acc: 0.8810\n",
      "Epoch 6/30\n",
      "2000/2000 [==============================] - 1s 562us/step - loss: 0.2659 - acc: 0.8950 - val_loss: 0.2781 - val_acc: 0.8850\n",
      "Epoch 7/30\n",
      "2000/2000 [==============================] - 1s 568us/step - loss: 0.2423 - acc: 0.9070 - val_loss: 0.2662 - val_acc: 0.8910\n",
      "Epoch 8/30\n",
      "2000/2000 [==============================] - 1s 555us/step - loss: 0.2366 - acc: 0.9080 - val_loss: 0.2627 - val_acc: 0.8920\n",
      "Epoch 9/30\n",
      "2000/2000 [==============================] - 1s 559us/step - loss: 0.2178 - acc: 0.9190 - val_loss: 0.2591 - val_acc: 0.8880\n",
      "Epoch 10/30\n",
      "2000/2000 [==============================] - 1s 573us/step - loss: 0.2014 - acc: 0.9220 - val_loss: 0.2566 - val_acc: 0.8890\n",
      "Epoch 11/30\n",
      "2000/2000 [==============================] - 1s 570us/step - loss: 0.1942 - acc: 0.9275 - val_loss: 0.2509 - val_acc: 0.8910\n",
      "Epoch 12/30\n",
      "2000/2000 [==============================] - 1s 585us/step - loss: 0.1834 - acc: 0.9350 - val_loss: 0.2513 - val_acc: 0.8910\n",
      "Epoch 13/30\n",
      "2000/2000 [==============================] - 1s 574us/step - loss: 0.1796 - acc: 0.9360 - val_loss: 0.2453 - val_acc: 0.9010\n",
      "Epoch 14/30\n",
      "2000/2000 [==============================] - 1s 574us/step - loss: 0.1700 - acc: 0.9385 - val_loss: 0.2429 - val_acc: 0.9000\n",
      "Epoch 15/30\n",
      "2000/2000 [==============================] - 1s 551us/step - loss: 0.1594 - acc: 0.9450 - val_loss: 0.2443 - val_acc: 0.9010\n",
      "Epoch 16/30\n",
      "2000/2000 [==============================] - 1s 562us/step - loss: 0.1522 - acc: 0.9460 - val_loss: 0.2440 - val_acc: 0.9020\n",
      "Epoch 17/30\n",
      "2000/2000 [==============================] - 1s 552us/step - loss: 0.1495 - acc: 0.9505 - val_loss: 0.2401 - val_acc: 0.9000\n",
      "Epoch 18/30\n",
      "2000/2000 [==============================] - 1s 565us/step - loss: 0.1392 - acc: 0.9490 - val_loss: 0.2391 - val_acc: 0.8970\n",
      "Epoch 19/30\n",
      "2000/2000 [==============================] - 1s 559us/step - loss: 0.1336 - acc: 0.9575 - val_loss: 0.2406 - val_acc: 0.9000\n",
      "Epoch 20/30\n",
      "2000/2000 [==============================] - 1s 571us/step - loss: 0.1296 - acc: 0.9585 - val_loss: 0.2386 - val_acc: 0.9000\n",
      "Epoch 21/30\n",
      "2000/2000 [==============================] - 1s 593us/step - loss: 0.1244 - acc: 0.9580 - val_loss: 0.2388 - val_acc: 0.9020\n",
      "Epoch 22/30\n",
      "2000/2000 [==============================] - 1s 587us/step - loss: 0.1188 - acc: 0.9600 - val_loss: 0.2457 - val_acc: 0.9060\n",
      "Epoch 23/30\n",
      "2000/2000 [==============================] - 1s 563us/step - loss: 0.1156 - acc: 0.9590 - val_loss: 0.2413 - val_acc: 0.9000\n",
      "Epoch 24/30\n",
      "2000/2000 [==============================] - 1s 595us/step - loss: 0.1097 - acc: 0.9630 - val_loss: 0.2519 - val_acc: 0.8980\n",
      "Epoch 25/30\n",
      "2000/2000 [==============================] - 1s 584us/step - loss: 0.1090 - acc: 0.9615 - val_loss: 0.2457 - val_acc: 0.9040\n",
      "Epoch 26/30\n",
      "2000/2000 [==============================] - 1s 596us/step - loss: 0.1012 - acc: 0.9690 - val_loss: 0.2387 - val_acc: 0.9010\n",
      "Epoch 27/30\n",
      "2000/2000 [==============================] - 1s 586us/step - loss: 0.0967 - acc: 0.9680 - val_loss: 0.2419 - val_acc: 0.9000\n",
      "Epoch 28/30\n",
      "2000/2000 [==============================] - 1s 592us/step - loss: 0.0922 - acc: 0.9695 - val_loss: 0.2403 - val_acc: 0.9000\n",
      "Epoch 29/30\n",
      "2000/2000 [==============================] - 1s 597us/step - loss: 0.0914 - acc: 0.9690 - val_loss: 0.2428 - val_acc: 0.8990\n",
      "Epoch 30/30\n",
      "2000/2000 [==============================] - 1s 593us/step - loss: 0.0877 - acc: 0.9720 - val_loss: 0.2582 - val_acc: 0.8960\n"
     ]
    }
   ],
   "source": [
    "from keras import models\n",
    "from keras import layers\n",
    "from keras import optimizers\n",
    "\n",
    "model = models.Sequential()\n",
    "model.add(layers.Dense(256, activation='relu', input_dim=4 * 4 * 512))\n",
    "model.add(layers.Dropout(0.5))\n",
    "model.add(layers.Dense(1, activation='sigmoid'))\n",
    "\n",
    "model.compile(optimizer=optimizers.RMSprop(lr=2e-5),\n",
    "              loss='binary_crossentropy',\n",
    "              metrics=['acc'])\n",
    "\n",
    "history = model.fit(train_features, train_labels,\n",
    "                    epochs=30,\n",
    "                    batch_size=20,\n",
    "                    validation_data=(validation_features, validation_labels))"
   ]
  },
  {
   "cell_type": "code",
   "execution_count": 24,
   "metadata": {},
   "outputs": [
    {
     "data": {
      "image/png": "[encoded data removed]",
      "text/plain": [
       "<Figure size 432x288 with 1 Axes>"
      ]
     },
     "metadata": {
      "needs_background": "light"
     },
     "output_type": "display_data"
    },
    {
     "data": {
      "image/png": "[encoded data removed]",
      "text/plain": [
       "<Figure size 432x288 with 1 Axes>"
      ]
     },
     "metadata": {
      "needs_background": "light"
     },
     "output_type": "display_data"
    }
   ],
   "source": [
    "import matplotlib.pyplot as plt\n",
    "\n",
    "acc = history.history['acc']\n",
    "val_acc = history.history['val_acc']\n",
    "loss = history.history['loss']\n",
    "val_loss = history.history['val_loss']\n",
    "\n",
    "epochs = range(len(acc))\n",
    "\n",
    "plt.plot(epochs, acc, 'bo', label='Training acc')\n",
    "plt.plot(epochs, val_acc, 'b', label='Validation acc')\n",
    "plt.title('Training and validation accuracy')\n",
    "plt.legend()\n",
    "\n",
    "plt.figure()\n",
    "\n",
    "plt.plot(epochs, loss, 'bo', label='Training loss')\n",
    "plt.plot(epochs, val_loss, 'b', label='Validation loss')\n",
    "plt.title('Training and validation loss')\n",
    "plt.legend()\n",
    "\n",
    "plt.show()"
   ]
  },
  {
   "cell_type": "code",
   "execution_count": 25,
   "metadata": {},
   "outputs": [],
   "source": [
    "from keras import models\n",
    "from keras import layers\n",
    "\n",
    "model = models.Sequential()\n",
    "model.add(conv_base)\n",
    "model.add(layers.Flatten())\n",
    "model.add(layers.Dense(256, activation='relu'))\n",
    "model.add(layers.Dense(1, activation='sigmoid'))"
   ]
  },
  {
   "cell_type": "code",
   "execution_count": 26,
   "metadata": {},
   "outputs": [
    {
     "name": "stdout",
     "output_type": "stream",
     "text": [
      "_________________________________________________________________\n",
      "Layer (type)                 Output Shape              Param #   \n",
      "=================================================================\n",
      "vgg16 (Model)                (None, 4, 4, 512)         14714688  \n",
      "_________________________________________________________________\n",
      "flatten_1 (Flatten)          (None, 8192)              0         \n",
      "_________________________________________________________________\n",
      "dense_3 (Dense)              (None, 256)               2097408   \n",
      "_________________________________________________________________\n",
      "dense_4 (Dense)              (None, 1)                 257       \n",
      "=================================================================\n",
      "Total params: 16,812,353\n",
      "Trainable params: 16,812,353\n",
      "Non-trainable params: 0\n",
      "_________________________________________________________________\n"
     ]
    }
   ],
   "source": [
    "model.summary()"
   ]
  },
  {
   "cell_type": "code",
   "execution_count": 27,
   "metadata": {},
   "outputs": [
    {
     "name": "stdout",
     "output_type": "stream",
     "text": [
      "This is the number of trainable weights before freezing the conv base: 30\n"
     ]
    }
   ],
   "source": [
    "print('This is the number of trainable weights '\n",
    "      'before freezing the conv base:', len(model.trainable_weights))"
   ]
  },
  {
   "cell_type": "code",
   "execution_count": 28,
   "metadata": {},
   "outputs": [],
   "source": [
    "conv_base.trainable = False"
   ]
  },
  {
   "cell_type": "code",
   "execution_count": 29,
   "metadata": {},
   "outputs": [
    {
     "name": "stdout",
     "output_type": "stream",
     "text": [
      "This is the number of trainable weights after freezing the conv base: 4\n"
     ]
    }
   ],
   "source": [
    "print('This is the number of trainable weights '\n",
    "      'after freezing the conv base:', len(model.trainable_weights))"
   ]
  },
  {
   "cell_type": "code",
   "execution_count": 30,
   "metadata": {},
   "outputs": [
    {
     "name": "stdout",
     "output_type": "stream",
     "text": [
      "Found 2000 images belonging to 2 classes.\n",
      "Found 1000 images belonging to 2 classes.\n",
      "Epoch 1/30\n",
      " - 34s - loss: 0.5814 - acc: 0.6985 - val_loss: 0.4386 - val_acc: 0.8360\n",
      "Epoch 2/30\n",
      " - 34s - loss: 0.4744 - acc: 0.7840 - val_loss: 0.3606 - val_acc: 0.8600\n",
      "Epoch 3/30\n",
      " - 34s - loss: 0.4362 - acc: 0.8010 - val_loss: 0.3287 - val_acc: 0.8650\n",
      "Epoch 4/30\n",
      " - 34s - loss: 0.4012 - acc: 0.8280 - val_loss: 0.3073 - val_acc: 0.8750\n",
      "Epoch 5/30\n",
      " - 34s - loss: 0.3854 - acc: 0.8295 - val_loss: 0.3023 - val_acc: 0.8740\n",
      "Epoch 6/30\n",
      " - 34s - loss: 0.3661 - acc: 0.8415 - val_loss: 0.2787 - val_acc: 0.8870\n",
      "Epoch 7/30\n",
      " - 34s - loss: 0.3614 - acc: 0.8415 - val_loss: 0.2926 - val_acc: 0.8730\n",
      "Epoch 8/30\n",
      " - 34s - loss: 0.3499 - acc: 0.8350 - val_loss: 0.2760 - val_acc: 0.8890\n",
      "Epoch 9/30\n",
      " - 34s - loss: 0.3522 - acc: 0.8420 - val_loss: 0.2633 - val_acc: 0.8920\n",
      "Epoch 10/30\n",
      " - 34s - loss: 0.3342 - acc: 0.8595 - val_loss: 0.2549 - val_acc: 0.9010\n",
      "Epoch 11/30\n",
      " - 34s - loss: 0.3291 - acc: 0.8600 - val_loss: 0.2551 - val_acc: 0.8970\n",
      "Epoch 12/30\n",
      " - 34s - loss: 0.3169 - acc: 0.8610 - val_loss: 0.2535 - val_acc: 0.9010\n",
      "Epoch 13/30\n",
      " - 34s - loss: 0.3060 - acc: 0.8705 - val_loss: 0.2705 - val_acc: 0.8870\n",
      "Epoch 14/30\n",
      " - 34s - loss: 0.3149 - acc: 0.8570 - val_loss: 0.2497 - val_acc: 0.8970\n",
      "Epoch 15/30\n",
      " - 34s - loss: 0.3098 - acc: 0.8595 - val_loss: 0.2575 - val_acc: 0.8980\n",
      "Epoch 16/30\n",
      " - 34s - loss: 0.2969 - acc: 0.8690 - val_loss: 0.2652 - val_acc: 0.8950\n",
      "Epoch 17/30\n",
      " - 34s - loss: 0.3076 - acc: 0.8610 - val_loss: 0.2723 - val_acc: 0.8820\n",
      "Epoch 18/30\n",
      " - 34s - loss: 0.3039 - acc: 0.8680 - val_loss: 0.2433 - val_acc: 0.9010\n",
      "Epoch 19/30\n",
      " - 34s - loss: 0.2981 - acc: 0.8710 - val_loss: 0.2411 - val_acc: 0.8950\n",
      "Epoch 20/30\n",
      " - 34s - loss: 0.2991 - acc: 0.8640 - val_loss: 0.2409 - val_acc: 0.8950\n",
      "Epoch 21/30\n",
      " - 34s - loss: 0.3070 - acc: 0.8655 - val_loss: 0.2445 - val_acc: 0.8930\n",
      "Epoch 22/30\n",
      " - 34s - loss: 0.2949 - acc: 0.8730 - val_loss: 0.2416 - val_acc: 0.8950\n",
      "Epoch 23/30\n",
      " - 34s - loss: 0.3003 - acc: 0.8680 - val_loss: 0.2426 - val_acc: 0.8980\n",
      "Epoch 24/30\n",
      " - 34s - loss: 0.2980 - acc: 0.8675 - val_loss: 0.2398 - val_acc: 0.9050\n",
      "Epoch 25/30\n",
      " - 34s - loss: 0.2872 - acc: 0.8800 - val_loss: 0.2427 - val_acc: 0.9000\n",
      "Epoch 26/30\n",
      " - 34s - loss: 0.3052 - acc: 0.8635 - val_loss: 0.2374 - val_acc: 0.9070\n",
      "Epoch 27/30\n",
      " - 34s - loss: 0.2862 - acc: 0.8740 - val_loss: 0.2391 - val_acc: 0.9110\n",
      "Epoch 28/30\n",
      " - 34s - loss: 0.2897 - acc: 0.8755 - val_loss: 0.2393 - val_acc: 0.9100\n",
      "Epoch 29/30\n",
      " - 34s - loss: 0.2846 - acc: 0.8745 - val_loss: 0.2468 - val_acc: 0.9000\n",
      "Epoch 30/30\n",
      " - 34s - loss: 0.2871 - acc: 0.8820 - val_loss: 0.2373 - val_acc: 0.9090\n"
     ]
    }
   ],
   "source": [
    "from keras.preprocessing.image import ImageDataGenerator\n",
    "\n",
    "train_datagen = ImageDataGenerator(\n",
    "      rescale=1./255,\n",
    "      rotation_range=40,\n",
    "      width_shift_range=0.2,\n",
    "      height_shift_range=0.2,\n",
    "      shear_range=0.2,\n",
    "      zoom_range=0.2,\n",
    "      horizontal_flip=True,\n",
    "      fill_mode='nearest')\n",
    "\n",
    "# Note that the validation data should not be augmented!\n",
    "test_datagen = ImageDataGenerator(rescale=1./255)\n",
    "\n",
    "train_generator = train_datagen.flow_from_directory(\n",
    "        # This is the target directory\n",
    "        train_dir,\n",
    "        # All images will be resized to 150x150\n",
    "        target_size=(150, 150),\n",
    "        batch_size=20,\n",
    "        # Since we use binary_crossentropy loss, we need binary labels\n",
    "        class_mode='binary')\n",
    "\n",
    "validation_generator = test_datagen.flow_from_directory(\n",
    "        validation_dir,\n",
    "        target_size=(150, 150),\n",
    "        batch_size=20,\n",
    "        class_mode='binary')\n",
    "\n",
    "model.compile(loss='binary_crossentropy',\n",
    "              optimizer=optimizers.RMSprop(lr=2e-5),\n",
    "              metrics=['acc'])\n",
    "\n",
    "history = model.fit_generator(\n",
    "      train_generator,\n",
    "      steps_per_epoch=100,\n",
    "      epochs=30,\n",
    "      validation_data=validation_generator,\n",
    "      validation_steps=50,\n",
    "      verbose=2)"
   ]
  },
  {
   "cell_type": "code",
   "execution_count": 31,
   "metadata": {},
   "outputs": [],
   "source": [
    "model.save('data/cats_and_dogs_small_3.h5')"
   ]
  },
  {
   "cell_type": "code",
   "execution_count": 32,
   "metadata": {},
   "outputs": [
    {
     "data": {
      "image/png": "[encoded data removed]",
      "text/plain": [
       "<Figure size 432x288 with 1 Axes>"
      ]
     },
     "metadata": {
      "needs_background": "light"
     },
     "output_type": "display_data"
    },
    {
     "data": {
      "image/png": "[encoded data removed]",
      "text/plain": [
       "<Figure size 432x288 with 1 Axes>"
      ]
     },
     "metadata": {
      "needs_background": "light"
     },
     "output_type": "display_data"
    }
   ],
   "source": [
    "acc = history.history['acc']\n",
    "val_acc = history.history['val_acc']\n",
    "loss = history.history['loss']\n",
    "val_loss = history.history['val_loss']\n",
    "\n",
    "epochs = range(len(acc))\n",
    "\n",
    "plt.plot(epochs, acc, 'bo', label='Training acc')\n",
    "plt.plot(epochs, val_acc, 'b', label='Validation acc')\n",
    "plt.title('Training and validation accuracy')\n",
    "plt.legend()\n",
    "\n",
    "plt.figure()\n",
    "\n",
    "plt.plot(epochs, loss, 'bo', label='Training loss')\n",
    "plt.plot(epochs, val_loss, 'b', label='Validation loss')\n",
    "plt.title('Training and validation loss')\n",
    "plt.legend()\n",
    "\n",
    "plt.show()"
   ]
  },
  {
   "cell_type": "markdown",
   "metadata": {},
   "source": [
    "## Fine-tuning"
   ]
  },
  {
   "cell_type": "code",
   "execution_count": 34,
   "metadata": {},
   "outputs": [
    {
     "name": "stdout",
     "output_type": "stream",
     "text": [
      "_________________________________________________________________\n",
      "Layer (type)                 Output Shape              Param #   \n",
      "=================================================================\n",
      "input_1 (InputLayer)         (None, 150, 150, 3)       0         \n",
      "_________________________________________________________________\n",
      "block1_conv1 (Conv2D)        (None, 150, 150, 64)      1792      \n",
      "_________________________________________________________________\n",
      "block1_conv2 (Conv2D)        (None, 150, 150, 64)      36928     \n",
      "_________________________________________________________________\n",
      "block1_pool (MaxPooling2D)   (None, 75, 75, 64)        0         \n",
      "_________________________________________________________________\n",
      "block2_conv1 (Conv2D)        (None, 75, 75, 128)       73856     \n",
      "_________________________________________________________________\n",
      "block2_conv2 (Conv2D)        (None, 75, 75, 128)       147584    \n",
      "_________________________________________________________________\n",
      "block2_pool (MaxPooling2D)   (None, 37, 37, 128)       0         \n",
      "_________________________________________________________________\n",
      "block3_conv1 (Conv2D)        (None, 37, 37, 256)       295168    \n",
      "_________________________________________________________________\n",
      "block3_conv2 (Conv2D)        (None, 37, 37, 256)       590080    \n",
      "_________________________________________________________________\n",
      "block3_conv3 (Conv2D)        (None, 37, 37, 256)       590080    \n",
      "_________________________________________________________________\n",
      "block3_pool (MaxPooling2D)   (None, 18, 18, 256)       0         \n",
      "_________________________________________________________________\n",
      "block4_conv1 (Conv2D)        (None, 18, 18, 512)       1180160   \n",
      "_________________________________________________________________\n",
      "block4_conv2 (Conv2D)        (None, 18, 18, 512)       2359808   \n",
      "_________________________________________________________________\n",
      "block4_conv3 (Conv2D)        (None, 18, 18, 512)       2359808   \n",
      "_________________________________________________________________\n",
      "block4_pool (MaxPooling2D)   (None, 9, 9, 512)         0         \n",
      "_________________________________________________________________\n",
      "block5_conv1 (Conv2D)        (None, 9, 9, 512)         2359808   \n",
      "_________________________________________________________________\n",
      "block5_conv2 (Conv2D)        (None, 9, 9, 512)         2359808   \n",
      "_________________________________________________________________\n",
      "block5_conv3 (Conv2D)        (None, 9, 9, 512)         2359808   \n",
      "_________________________________________________________________\n",
      "block5_pool (MaxPooling2D)   (None, 4, 4, 512)         0         \n",
      "=================================================================\n",
      "Total params: 14,714,688\n",
      "Trainable params: 0\n",
      "Non-trainable params: 14,714,688\n",
      "_________________________________________________________________\n"
     ]
    }
   ],
   "source": [
    "conv_base.summary()"
   ]
  },
  {
   "cell_type": "code",
   "execution_count": 35,
   "metadata": {},
   "outputs": [],
   "source": [
    "conv_base.trainable = True\n",
    "\n",
    "set_trainable = False\n",
    "for layer in conv_base.layers:\n",
    "    if layer.name == 'block5_conv1':\n",
    "        set_trainable = True\n",
    "    if set_trainable:\n",
    "        layer.trainable = True\n",
    "    else:\n",
    "        layer.trainable = False"
   ]
  },
  {
   "cell_type": "code",
   "execution_count": 36,
   "metadata": {},
   "outputs": [
    {
     "name": "stdout",
     "output_type": "stream",
     "text": [
      "Epoch 1/100\n",
      "100/100 [==============================] - 40s 405ms/step - loss: 0.2878 - acc: 0.8730 - val_loss: 0.2221 - val_acc: 0.9110\n",
      "Epoch 2/100\n",
      "100/100 [==============================] - 39s 392ms/step - loss: 0.2807 - acc: 0.8750 - val_loss: 0.2082 - val_acc: 0.9170\n",
      "Epoch 3/100\n",
      "100/100 [==============================] - 39s 392ms/step - loss: 0.2383 - acc: 0.8995 - val_loss: 0.2029 - val_acc: 0.9210\n",
      "Epoch 4/100\n",
      "100/100 [==============================] - 39s 392ms/step - loss: 0.2051 - acc: 0.9140 - val_loss: 0.2139 - val_acc: 0.9180\n",
      "Epoch 5/100\n",
      "100/100 [==============================] - 39s 393ms/step - loss: 0.1966 - acc: 0.9175 - val_loss: 0.2279 - val_acc: 0.9070\n",
      "Epoch 6/100\n",
      "100/100 [==============================] - 39s 393ms/step - loss: 0.1916 - acc: 0.9150 - val_loss: 0.1984 - val_acc: 0.9250\n",
      "Epoch 7/100\n",
      "100/100 [==============================] - 39s 393ms/step - loss: 0.1793 - acc: 0.9310 - val_loss: 0.2193 - val_acc: 0.9190\n",
      "Epoch 8/100\n",
      "100/100 [==============================] - 39s 393ms/step - loss: 0.1635 - acc: 0.9350 - val_loss: 0.1882 - val_acc: 0.9250\n",
      "Epoch 9/100\n",
      "100/100 [==============================] - 39s 393ms/step - loss: 0.1626 - acc: 0.9350 - val_loss: 0.1940 - val_acc: 0.9270\n",
      "Epoch 10/100\n",
      "100/100 [==============================] - 39s 393ms/step - loss: 0.1636 - acc: 0.9295 - val_loss: 0.2276 - val_acc: 0.9100\n",
      "Epoch 11/100\n",
      "100/100 [==============================] - 39s 393ms/step - loss: 0.1653 - acc: 0.9355 - val_loss: 0.2051 - val_acc: 0.9180\n",
      "Epoch 12/100\n",
      "100/100 [==============================] - 39s 394ms/step - loss: 0.1304 - acc: 0.9495 - val_loss: 0.1950 - val_acc: 0.9290\n",
      "Epoch 13/100\n",
      "100/100 [==============================] - 39s 393ms/step - loss: 0.1309 - acc: 0.9530 - val_loss: 0.1779 - val_acc: 0.9320\n",
      "Epoch 14/100\n",
      "100/100 [==============================] - 39s 392ms/step - loss: 0.1115 - acc: 0.9590 - val_loss: 0.1852 - val_acc: 0.9250\n",
      "Epoch 15/100\n",
      "100/100 [==============================] - 39s 391ms/step - loss: 0.1200 - acc: 0.9515 - val_loss: 0.2176 - val_acc: 0.9240\n",
      "Epoch 16/100\n",
      "100/100 [==============================] - 39s 393ms/step - loss: 0.1116 - acc: 0.9545 - val_loss: 0.1870 - val_acc: 0.9270\n",
      "Epoch 17/100\n",
      "100/100 [==============================] - 39s 393ms/step - loss: 0.1139 - acc: 0.9550 - val_loss: 0.2053 - val_acc: 0.9180\n",
      "Epoch 18/100\n",
      "100/100 [==============================] - 39s 393ms/step - loss: 0.1034 - acc: 0.9600 - val_loss: 0.1912 - val_acc: 0.9340\n",
      "Epoch 19/100\n",
      "100/100 [==============================] - 39s 393ms/step - loss: 0.1069 - acc: 0.9520 - val_loss: 0.2140 - val_acc: 0.9220\n",
      "Epoch 20/100\n",
      "100/100 [==============================] - 39s 392ms/step - loss: 0.0918 - acc: 0.9665 - val_loss: 0.1776 - val_acc: 0.9330\n",
      "Epoch 21/100\n",
      "100/100 [==============================] - 39s 393ms/step - loss: 0.0915 - acc: 0.9660 - val_loss: 0.1899 - val_acc: 0.9310\n",
      "Epoch 22/100\n",
      "100/100 [==============================] - 39s 393ms/step - loss: 0.0881 - acc: 0.9660 - val_loss: 0.2221 - val_acc: 0.9220\n",
      "Epoch 23/100\n",
      "100/100 [==============================] - 39s 393ms/step - loss: 0.0926 - acc: 0.9625 - val_loss: 0.1927 - val_acc: 0.9340\n",
      "Epoch 24/100\n",
      "100/100 [==============================] - 39s 393ms/step - loss: 0.0858 - acc: 0.9680 - val_loss: 0.1904 - val_acc: 0.9300\n",
      "Epoch 25/100\n",
      "100/100 [==============================] - 39s 393ms/step - loss: 0.0730 - acc: 0.9715 - val_loss: 0.1833 - val_acc: 0.9370\n",
      "Epoch 26/100\n",
      "100/100 [==============================] - 39s 393ms/step - loss: 0.0867 - acc: 0.9655 - val_loss: 0.1984 - val_acc: 0.9320\n",
      "Epoch 27/100\n",
      "100/100 [==============================] - 39s 394ms/step - loss: 0.0800 - acc: 0.9670 - val_loss: 0.1833 - val_acc: 0.9390\n",
      "Epoch 28/100\n",
      "100/100 [==============================] - 39s 394ms/step - loss: 0.0768 - acc: 0.9725 - val_loss: 0.2106 - val_acc: 0.9330\n",
      "Epoch 29/100\n",
      "100/100 [==============================] - 39s 394ms/step - loss: 0.0728 - acc: 0.9690 - val_loss: 0.2326 - val_acc: 0.9200\n",
      "Epoch 30/100\n",
      "100/100 [==============================] - 39s 394ms/step - loss: 0.0780 - acc: 0.9680 - val_loss: 0.2317 - val_acc: 0.9340\n",
      "Epoch 31/100\n",
      "100/100 [==============================] - 39s 392ms/step - loss: 0.0634 - acc: 0.9765 - val_loss: 0.2722 - val_acc: 0.9120\n",
      "Epoch 32/100\n",
      "100/100 [==============================] - 39s 392ms/step - loss: 0.0712 - acc: 0.9720 - val_loss: 0.1833 - val_acc: 0.9360\n",
      "Epoch 33/100\n",
      "100/100 [==============================] - 39s 393ms/step - loss: 0.0667 - acc: 0.9740 - val_loss: 0.1988 - val_acc: 0.9260\n",
      "Epoch 34/100\n",
      "100/100 [==============================] - 39s 393ms/step - loss: 0.0643 - acc: 0.9745 - val_loss: 0.1854 - val_acc: 0.9370\n",
      "Epoch 35/100\n",
      "100/100 [==============================] - 39s 392ms/step - loss: 0.0712 - acc: 0.9740 - val_loss: 0.1900 - val_acc: 0.9380\n",
      "Epoch 36/100\n",
      "100/100 [==============================] - 39s 392ms/step - loss: 0.0617 - acc: 0.9755 - val_loss: 0.1928 - val_acc: 0.9380\n",
      "Epoch 37/100\n",
      "100/100 [==============================] - 39s 393ms/step - loss: 0.0437 - acc: 0.9850 - val_loss: 0.1763 - val_acc: 0.9380\n",
      "Epoch 38/100\n",
      "100/100 [==============================] - 39s 393ms/step - loss: 0.0498 - acc: 0.9770 - val_loss: 0.1966 - val_acc: 0.9380\n",
      "Epoch 39/100\n",
      "100/100 [==============================] - 39s 393ms/step - loss: 0.0560 - acc: 0.9775 - val_loss: 0.2372 - val_acc: 0.9320\n",
      "Epoch 40/100\n",
      "100/100 [==============================] - 39s 392ms/step - loss: 0.0449 - acc: 0.9835 - val_loss: 0.3027 - val_acc: 0.9160\n",
      "Epoch 41/100\n",
      "100/100 [==============================] - 39s 392ms/step - loss: 0.0416 - acc: 0.9855 - val_loss: 0.2145 - val_acc: 0.9270\n",
      "Epoch 42/100\n",
      "100/100 [==============================] - 39s 392ms/step - loss: 0.0522 - acc: 0.9820 - val_loss: 0.2038 - val_acc: 0.9370\n",
      "Epoch 43/100\n",
      "100/100 [==============================] - 39s 392ms/step - loss: 0.0439 - acc: 0.9835 - val_loss: 0.2216 - val_acc: 0.9310\n",
      "Epoch 44/100\n",
      "100/100 [==============================] - 39s 392ms/step - loss: 0.0335 - acc: 0.9870 - val_loss: 0.3642 - val_acc: 0.9110\n",
      "Epoch 45/100\n",
      "100/100 [==============================] - 39s 393ms/step - loss: 0.0534 - acc: 0.9780 - val_loss: 0.2233 - val_acc: 0.9310\n",
      "Epoch 46/100\n",
      "100/100 [==============================] - 39s 393ms/step - loss: 0.0363 - acc: 0.9870 - val_loss: 0.1970 - val_acc: 0.9370\n",
      "Epoch 47/100\n",
      "100/100 [==============================] - 39s 392ms/step - loss: 0.0461 - acc: 0.9830 - val_loss: 0.1882 - val_acc: 0.9360\n",
      "Epoch 48/100\n",
      "100/100 [==============================] - 39s 392ms/step - loss: 0.0456 - acc: 0.9855 - val_loss: 0.1829 - val_acc: 0.9380\n",
      "Epoch 49/100\n",
      "100/100 [==============================] - 39s 392ms/step - loss: 0.0520 - acc: 0.9830 - val_loss: 0.2111 - val_acc: 0.9280\n",
      "Epoch 50/100\n",
      "100/100 [==============================] - 39s 393ms/step - loss: 0.0307 - acc: 0.9875 - val_loss: 0.2284 - val_acc: 0.9400\n",
      "Epoch 51/100\n",
      "100/100 [==============================] - 39s 392ms/step - loss: 0.0401 - acc: 0.9845 - val_loss: 0.2624 - val_acc: 0.9260\n",
      "Epoch 52/100\n",
      "100/100 [==============================] - 39s 392ms/step - loss: 0.0356 - acc: 0.9860 - val_loss: 0.2288 - val_acc: 0.9350\n",
      "Epoch 53/100\n",
      "100/100 [==============================] - 39s 393ms/step - loss: 0.0327 - acc: 0.9890 - val_loss: 0.2047 - val_acc: 0.9380\n",
      "Epoch 54/100\n",
      "100/100 [==============================] - 39s 393ms/step - loss: 0.0346 - acc: 0.9885 - val_loss: 0.3103 - val_acc: 0.9250\n",
      "Epoch 55/100\n",
      "100/100 [==============================] - 39s 392ms/step - loss: 0.0306 - acc: 0.9895 - val_loss: 0.2210 - val_acc: 0.9310\n",
      "Epoch 56/100\n",
      "100/100 [==============================] - 39s 392ms/step - loss: 0.0334 - acc: 0.9875 - val_loss: 0.2840 - val_acc: 0.9290\n",
      "Epoch 57/100\n",
      "100/100 [==============================] - 39s 392ms/step - loss: 0.0395 - acc: 0.9860 - val_loss: 0.2291 - val_acc: 0.9360\n",
      "Epoch 58/100\n",
      "100/100 [==============================] - 39s 392ms/step - loss: 0.0349 - acc: 0.9870 - val_loss: 0.2157 - val_acc: 0.9350\n",
      "Epoch 59/100\n",
      "100/100 [==============================] - 39s 392ms/step - loss: 0.0317 - acc: 0.9875 - val_loss: 0.2233 - val_acc: 0.9390\n",
      "Epoch 60/100\n",
      "100/100 [==============================] - 39s 392ms/step - loss: 0.0259 - acc: 0.9890 - val_loss: 0.2324 - val_acc: 0.9320\n"
     ]
    },
    {
     "name": "stdout",
     "output_type": "stream",
     "text": [
      "Epoch 61/100\n",
      "100/100 [==============================] - 39s 392ms/step - loss: 0.0402 - acc: 0.9875 - val_loss: 0.2563 - val_acc: 0.9320\n",
      "Epoch 62/100\n",
      "100/100 [==============================] - 39s 392ms/step - loss: 0.0371 - acc: 0.9885 - val_loss: 0.2055 - val_acc: 0.9350\n",
      "Epoch 63/100\n",
      "100/100 [==============================] - 39s 393ms/step - loss: 0.0236 - acc: 0.9910 - val_loss: 0.4129 - val_acc: 0.9110\n",
      "Epoch 64/100\n",
      "100/100 [==============================] - 39s 392ms/step - loss: 0.0300 - acc: 0.9880 - val_loss: 0.3673 - val_acc: 0.9170\n",
      "Epoch 65/100\n",
      "100/100 [==============================] - 39s 392ms/step - loss: 0.0308 - acc: 0.9870 - val_loss: 0.2594 - val_acc: 0.9360\n",
      "Epoch 66/100\n",
      "100/100 [==============================] - 39s 392ms/step - loss: 0.0209 - acc: 0.9920 - val_loss: 0.2493 - val_acc: 0.9360\n",
      "Epoch 67/100\n",
      "100/100 [==============================] - 39s 392ms/step - loss: 0.0282 - acc: 0.9895 - val_loss: 0.3022 - val_acc: 0.9260\n",
      "Epoch 68/100\n",
      "100/100 [==============================] - 39s 392ms/step - loss: 0.0285 - acc: 0.9890 - val_loss: 0.2350 - val_acc: 0.9380\n",
      "Epoch 69/100\n",
      "100/100 [==============================] - 39s 392ms/step - loss: 0.0289 - acc: 0.9900 - val_loss: 0.2293 - val_acc: 0.9330\n",
      "Epoch 70/100\n",
      "100/100 [==============================] - 39s 392ms/step - loss: 0.0227 - acc: 0.9930 - val_loss: 0.3599 - val_acc: 0.9150\n",
      "Epoch 71/100\n",
      "100/100 [==============================] - 39s 392ms/step - loss: 0.0216 - acc: 0.9920 - val_loss: 0.2733 - val_acc: 0.9290\n",
      "Epoch 72/100\n",
      "100/100 [==============================] - 39s 392ms/step - loss: 0.0383 - acc: 0.9875 - val_loss: 0.3335 - val_acc: 0.9220\n",
      "Epoch 73/100\n",
      "100/100 [==============================] - 39s 392ms/step - loss: 0.0241 - acc: 0.9940 - val_loss: 0.2504 - val_acc: 0.9370\n",
      "Epoch 74/100\n",
      "100/100 [==============================] - 39s 393ms/step - loss: 0.0244 - acc: 0.9905 - val_loss: 0.2727 - val_acc: 0.9370\n",
      "Epoch 75/100\n",
      "100/100 [==============================] - 39s 392ms/step - loss: 0.0214 - acc: 0.9935 - val_loss: 0.2695 - val_acc: 0.9320\n",
      "Epoch 76/100\n",
      "100/100 [==============================] - 39s 392ms/step - loss: 0.0182 - acc: 0.9955 - val_loss: 0.2637 - val_acc: 0.9350\n",
      "Epoch 77/100\n",
      "100/100 [==============================] - 39s 392ms/step - loss: 0.0215 - acc: 0.9930 - val_loss: 0.2450 - val_acc: 0.9350\n",
      "Epoch 78/100\n",
      "100/100 [==============================] - 39s 392ms/step - loss: 0.0165 - acc: 0.9945 - val_loss: 0.2850 - val_acc: 0.9300\n",
      "Epoch 79/100\n",
      "100/100 [==============================] - 39s 392ms/step - loss: 0.0307 - acc: 0.9885 - val_loss: 0.2683 - val_acc: 0.9350\n",
      "Epoch 80/100\n",
      "100/100 [==============================] - 39s 392ms/step - loss: 0.0231 - acc: 0.9940 - val_loss: 0.2124 - val_acc: 0.9420\n",
      "Epoch 81/100\n",
      "100/100 [==============================] - 39s 391ms/step - loss: 0.0229 - acc: 0.9915 - val_loss: 0.2421 - val_acc: 0.9420\n",
      "Epoch 82/100\n",
      "100/100 [==============================] - 39s 392ms/step - loss: 0.0210 - acc: 0.9935 - val_loss: 0.2437 - val_acc: 0.9350\n",
      "Epoch 83/100\n",
      "100/100 [==============================] - 39s 392ms/step - loss: 0.0255 - acc: 0.9925 - val_loss: 0.2698 - val_acc: 0.9340\n",
      "Epoch 84/100\n",
      "100/100 [==============================] - 39s 393ms/step - loss: 0.0175 - acc: 0.9940 - val_loss: 0.2254 - val_acc: 0.9490\n",
      "Epoch 85/100\n",
      "100/100 [==============================] - 39s 393ms/step - loss: 0.0295 - acc: 0.9895 - val_loss: 0.2539 - val_acc: 0.9360\n",
      "Epoch 86/100\n",
      "100/100 [==============================] - 39s 393ms/step - loss: 0.0236 - acc: 0.9920 - val_loss: 0.2193 - val_acc: 0.9420\n",
      "Epoch 87/100\n",
      "100/100 [==============================] - 39s 393ms/step - loss: 0.0241 - acc: 0.9910 - val_loss: 0.2450 - val_acc: 0.9390\n",
      "Epoch 88/100\n",
      "100/100 [==============================] - 39s 393ms/step - loss: 0.0207 - acc: 0.9915 - val_loss: 0.3051 - val_acc: 0.9240\n",
      "Epoch 89/100\n",
      "100/100 [==============================] - 39s 393ms/step - loss: 0.0146 - acc: 0.9945 - val_loss: 0.3384 - val_acc: 0.9220\n",
      "Epoch 90/100\n",
      "100/100 [==============================] - 39s 392ms/step - loss: 0.0232 - acc: 0.9905 - val_loss: 0.3136 - val_acc: 0.9300\n",
      "Epoch 91/100\n",
      "100/100 [==============================] - 39s 392ms/step - loss: 0.0202 - acc: 0.9915 - val_loss: 0.2664 - val_acc: 0.9380\n",
      "Epoch 92/100\n",
      "100/100 [==============================] - 39s 393ms/step - loss: 0.0174 - acc: 0.9945 - val_loss: 0.3016 - val_acc: 0.9370\n",
      "Epoch 93/100\n",
      "100/100 [==============================] - 39s 393ms/step - loss: 0.0157 - acc: 0.9935 - val_loss: 0.3773 - val_acc: 0.9260\n",
      "Epoch 94/100\n",
      "100/100 [==============================] - 39s 394ms/step - loss: 0.0138 - acc: 0.9935 - val_loss: 0.2421 - val_acc: 0.9440\n",
      "Epoch 95/100\n",
      "100/100 [==============================] - 39s 392ms/step - loss: 0.0269 - acc: 0.9900 - val_loss: 0.2374 - val_acc: 0.9380\n",
      "Epoch 96/100\n",
      "100/100 [==============================] - 39s 392ms/step - loss: 0.0214 - acc: 0.9910 - val_loss: 0.2201 - val_acc: 0.9430\n",
      "Epoch 97/100\n",
      "100/100 [==============================] - 39s 393ms/step - loss: 0.0177 - acc: 0.9950 - val_loss: 0.2657 - val_acc: 0.9370\n",
      "Epoch 98/100\n",
      "100/100 [==============================] - 39s 393ms/step - loss: 0.0254 - acc: 0.9890 - val_loss: 0.2313 - val_acc: 0.9420\n",
      "Epoch 99/100\n",
      "100/100 [==============================] - 39s 392ms/step - loss: 0.0160 - acc: 0.9930 - val_loss: 0.2044 - val_acc: 0.9440\n",
      "Epoch 100/100\n",
      "100/100 [==============================] - 39s 392ms/step - loss: 0.0204 - acc: 0.9925 - val_loss: 0.2301 - val_acc: 0.9450\n"
     ]
    }
   ],
   "source": [
    "model.compile(loss='binary_crossentropy',\n",
    "              optimizer=optimizers.RMSprop(lr=1e-5),\n",
    "              metrics=['acc'])\n",
    "\n",
    "history = model.fit_generator(\n",
    "      train_generator,\n",
    "      steps_per_epoch=100,\n",
    "      epochs=100,\n",
    "      validation_data=validation_generator,\n",
    "      validation_steps=50)"
   ]
  },
  {
   "cell_type": "code",
   "execution_count": 37,
   "metadata": {},
   "outputs": [],
   "source": [
    "model.save('data/cats_and_dogs_small_4.h5')"
   ]
  },
  {
   "cell_type": "code",
   "execution_count": 38,
   "metadata": {},
   "outputs": [
    {
     "data": {
      "image/png": "[encoded data removed]",
      "text/plain": [
       "<Figure size 432x288 with 1 Axes>"
      ]
     },
     "metadata": {
      "needs_background": "light"
     },
     "output_type": "display_data"
    },
    {
     "data": {
      "image/png": "[encoded data removed]",
      "text/plain": [
       "<Figure size 432x288 with 1 Axes>"
      ]
     },
     "metadata": {
      "needs_background": "light"
     },
     "output_type": "display_data"
    }
   ],
   "source": [
    "acc = history.history['acc']\n",
    "val_acc = history.history['val_acc']\n",
    "loss = history.history['loss']\n",
    "val_loss = history.history['val_loss']\n",
    "\n",
    "epochs = range(len(acc))\n",
    "\n",
    "plt.plot(epochs, acc, 'bo', label='Training acc')\n",
    "plt.plot(epochs, val_acc, 'b', label='Validation acc')\n",
    "plt.title('Training and validation accuracy')\n",
    "plt.legend()\n",
    "\n",
    "plt.figure()\n",
    "\n",
    "plt.plot(epochs, loss, 'bo', label='Training loss')\n",
    "plt.plot(epochs, val_loss, 'b', label='Validation loss')\n",
    "plt.title('Training and validation loss')\n",
    "plt.legend()\n",
    "\n",
    "plt.show()"
   ]
  },
  {
   "cell_type": "code",
   "execution_count": 39,
   "metadata": {},
   "outputs": [],
   "source": [
    "def smooth_curve(points, factor=0.8):\n",
    "  smoothed_points = []\n",
    "  for point in points:\n",
    "    if smoothed_points:\n",
    "      previous = smoothed_points[-1]\n",
    "      smoothed_points.append(previous * factor + point * (1 - factor))\n",
    "    else:\n",
    "      smoothed_points.append(point)\n",
    "  return smoothed_points"
   ]
  },
  {
   "cell_type": "code",
   "execution_count": 40,
   "metadata": {},
   "outputs": [
    {
     "data": {
      "image/png": "[encoded data removed]",
      "text/plain": [
       "<Figure size 432x288 with 1 Axes>"
      ]
     },
     "metadata": {
      "needs_background": "light"
     },
     "output_type": "display_data"
    },
    {
     "data": {
      "image/png": "[encoded data removed]",
      "text/plain": [
       "<Figure size 432x288 with 1 Axes>"
      ]
     },
     "metadata": {
      "needs_background": "light"
     },
     "output_type": "display_data"
    }
   ],
   "source": [
    "plt.plot(epochs,\n",
    "         smooth_curve(acc), 'bo', label='Smoothed training acc')\n",
    "plt.plot(epochs,\n",
    "         smooth_curve(val_acc), 'b', label='Smoothed validation acc')\n",
    "plt.title('Training and validation accuracy')\n",
    "plt.legend()\n",
    "\n",
    "plt.figure()\n",
    "\n",
    "plt.plot(epochs,\n",
    "         smooth_curve(loss), 'bo', label='Smoothed training loss')\n",
    "plt.plot(epochs,\n",
    "         smooth_curve(val_loss), 'b', label='Smoothed validation loss')\n",
    "plt.title('Training and validation loss')\n",
    "plt.legend()\n",
    "\n",
    "plt.show()"
   ]
  },
  {
   "cell_type": "code",
   "execution_count": 41,
   "metadata": {},
   "outputs": [
    {
     "name": "stdout",
     "output_type": "stream",
     "text": [
      "Found 1000 images belonging to 2 classes.\n",
      "test acc: 0.9389999902248383\n"
     ]
    }
   ],
   "source": [
    "test_generator = test_datagen.flow_from_directory(\n",
    "        test_dir,\n",
    "        target_size=(150, 150),\n",
    "        batch_size=20,\n",
    "        class_mode='binary')\n",
    "\n",
    "test_loss, test_acc = model.evaluate_generator(test_generator, steps=50)\n",
    "print('test acc:', test_acc)"
   ]
  },
  {
   "cell_type": "code",
   "execution_count": null,
   "metadata": {},
   "outputs": [],
   "source": []
  }
 ],
 "metadata": {
  "kernelspec": {
   "display_name": "TensorFlow-GPU",
   "language": "python",
   "name": "tf-gpu"
  },
  "language_info": {
   "codemirror_mode": {
    "name": "ipython",
    "version": 3
   },
   "file_extension": ".py",
   "mimetype": "text/x-python",
   "name": "python",
   "nbconvert_exporter": "python",
   "pygments_lexer": "ipython3",
   "version": "3.6.6"
  }
 },
 "nbformat": 4,
 "nbformat_minor": 2
}
