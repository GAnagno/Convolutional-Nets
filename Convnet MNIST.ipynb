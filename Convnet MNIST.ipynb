{
 "cells": [
  {
   "cell_type": "markdown",
   "metadata": {},
   "source": [
    "# MNIST with Convolutional Networks"
   ]
  },
  {
   "cell_type": "code",
   "execution_count": 2,
   "metadata": {},
   "outputs": [
    {
     "name": "stdout",
     "output_type": "stream",
     "text": [
      "Extracting MNIST_data\\train-images-idx3-ubyte.gz\n",
      "Extracting MNIST_data\\train-labels-idx1-ubyte.gz\n",
      "Extracting MNIST_data\\t10k-images-idx3-ubyte.gz\n",
      "Extracting MNIST_data\\t10k-labels-idx1-ubyte.gz\n"
     ]
    }
   ],
   "source": [
    "import tensorflow as tf\n",
    "import time\n",
    "from tensorflow.examples.tutorials.mnist import input_data\n",
    "mnist = input_data.read_data_sets('MNIST_data', one_hot=True)"
   ]
  },
  {
   "cell_type": "code",
   "execution_count": 3,
   "metadata": {},
   "outputs": [],
   "source": [
    "# Architecture\n",
    "n_hidden_1 = 256\n",
    "n_hidden_2 = 256"
   ]
  },
  {
   "cell_type": "code",
   "execution_count": 4,
   "metadata": {},
   "outputs": [],
   "source": [
    "# Parameters\n",
    "learning_rate = 0.0001\n",
    "training_epochs = 100\n",
    "batch_size = 100\n",
    "display_step = 5"
   ]
  },
  {
   "cell_type": "code",
   "execution_count": 5,
   "metadata": {},
   "outputs": [],
   "source": [
    "def conv2d(input, weight_shape, bias_shape):\n",
    "    incoming = weight_shape[0] * weight_shape[1] * weight_shape[2]\n",
    "    weight_init = tf.random_normal_initializer(stddev=(2.0/incoming)**0.5)\n",
    "    W = tf.get_variable(\"W\", weight_shape, initializer=weight_init)\n",
    "    bias_init = tf.constant_initializer(value=0)\n",
    "    b = tf.get_variable(\"b\", bias_shape, initializer=bias_init)\n",
    "    return tf.nn.relu(tf.nn.bias_add(tf.nn.conv2d(input, W, strides=[1, 1, 1, 1], padding='SAME'), b))"
   ]
  },
  {
   "cell_type": "code",
   "execution_count": 6,
   "metadata": {},
   "outputs": [],
   "source": [
    "def max_pool(input, k=2):\n",
    "    return tf.nn.max_pool(input, ksize=[1, k, k, 1], strides=[1, k, k, 1], padding='SAME')"
   ]
  },
  {
   "cell_type": "code",
   "execution_count": 7,
   "metadata": {},
   "outputs": [],
   "source": [
    "def layer(input, weight_shape, bias_shape):\n",
    "    weight_stddev = (2.0/weight_shape[0])**0.5\n",
    "    w_init = tf.random_normal_initializer(stddev=weight_stddev)\n",
    "    bias_init = tf.constant_initializer(value=0)\n",
    "    W = tf.get_variable(\"W\", weight_shape, initializer=w_init)\n",
    "    b = tf.get_variable(\"b\", bias_shape, initializer=bias_init)\n",
    "    return tf.nn.relu(tf.matmul(input, W) + b)"
   ]
  },
  {
   "cell_type": "code",
   "execution_count": 8,
   "metadata": {},
   "outputs": [],
   "source": [
    "def inference(x, keep_prob):\n",
    "\n",
    "    x = tf.reshape(x, shape=[-1, 28, 28, 1])\n",
    "    with tf.variable_scope(\"conv_1\"):\n",
    "        conv_1 = conv2d(x, [5, 5, 1, 32], [32])\n",
    "        pool_1 = max_pool(conv_1)\n",
    "\n",
    "    with tf.variable_scope(\"conv_2\"):\n",
    "        conv_2 = conv2d(pool_1, [5, 5, 32, 64], [64])\n",
    "        pool_2 = max_pool(conv_2)\n",
    "\n",
    "    with tf.variable_scope(\"fc\"):\n",
    "        pool_2_flat = tf.reshape(pool_2, [-1, 7 * 7 * 64])\n",
    "        fc_1 = layer(pool_2_flat, [7*7*64, 1024], [1024])\n",
    "        \n",
    "        # apply dropout\n",
    "        fc_1_drop = tf.nn.dropout(fc_1, keep_prob)\n",
    "\n",
    "    with tf.variable_scope(\"output\"):\n",
    "        output = layer(fc_1_drop, [1024, 10], [10])\n",
    "\n",
    "    return output"
   ]
  },
  {
   "cell_type": "code",
   "execution_count": 9,
   "metadata": {},
   "outputs": [],
   "source": [
    "def loss(output, y):\n",
    "    xentropy = tf.nn.softmax_cross_entropy_with_logits(logits=output, labels=y)\n",
    "    loss = tf.reduce_mean(xentropy)    \n",
    "    return loss"
   ]
  },
  {
   "cell_type": "code",
   "execution_count": 10,
   "metadata": {},
   "outputs": [],
   "source": [
    "def training(cost, global_step):\n",
    "    tf.summary.scalar(\"cost\", cost)\n",
    "    optimizer = tf.train.AdamOptimizer(learning_rate)\n",
    "    train_op = optimizer.minimize(cost, global_step=global_step)\n",
    "    return train_op"
   ]
  },
  {
   "cell_type": "code",
   "execution_count": 14,
   "metadata": {},
   "outputs": [],
   "source": [
    "def evaluate(output, y):\n",
    "    correct_prediction = tf.equal(tf.argmax(output, 1), tf.argmax(y, 1))\n",
    "    accuracy = tf.reduce_mean(tf.cast(correct_prediction, tf.float32))\n",
    "    tf.summary.scalar(\"validation\", accuracy)\n",
    "    return accuracy"
   ]
  },
  {
   "cell_type": "code",
   "execution_count": 15,
   "metadata": {},
   "outputs": [
    {
     "name": "stdout",
     "output_type": "stream",
     "text": [
      "WARNING:tensorflow:From <ipython-input-9-5206c4e05ac7>:2: softmax_cross_entropy_with_logits (from tensorflow.python.ops.nn_ops) is deprecated and will be removed in a future version.\n",
      "Instructions for updating:\n",
      "\n",
      "Future major versions of TensorFlow will allow gradients to flow\n",
      "into the labels input on backprop by default.\n",
      "\n",
      "See @{tf.nn.softmax_cross_entropy_with_logits_v2}.\n",
      "\n",
      "WARNING:tensorflow:Passing a `GraphDef` to the SummaryWriter is deprecated. Pass a `Graph` object instead, such as `sess.graph`.\n",
      "Epoch: 0001 cost = 0.355969126\n",
      "Validation Error: 0.025799989700317383\n",
      "Epoch: 0005 cost = 0.035560348\n",
      "Validation Error: 0.00959998369216919\n",
      "Epoch: 0009 cost = 0.018321175\n",
      "Validation Error: 0.008199989795684814\n",
      "Epoch: 0013 cost = 0.010332585\n",
      "Validation Error: 0.008599996566772461\n",
      "Epoch: 0017 cost = 0.006766865\n",
      "Validation Error: 0.007799983024597168\n",
      "Epoch: 0021 cost = 0.004174497\n",
      "Validation Error: 0.007799983024597168\n",
      "Epoch: 0025 cost = 0.003610155\n",
      "Validation Error: 0.0073999762535095215\n",
      "Epoch: 0029 cost = 0.002403672\n",
      "Validation Error: 0.00700002908706665\n",
      "Epoch: 0033 cost = 0.001862832\n",
      "Validation Error: 0.007200002670288086\n",
      "Epoch: 0037 cost = 0.001807642\n",
      "Validation Error: 0.007600009441375732\n",
      "Epoch: 0041 cost = 0.001424952\n",
      "Validation Error: 0.0073999762535095215\n",
      "Epoch: 0045 cost = 0.001135927\n",
      "Validation Error: 0.008000016212463379\n",
      "Epoch: 0049 cost = 0.000471187\n",
      "Validation Error: 0.00700002908706665\n",
      "Epoch: 0053 cost = 0.000867082\n",
      "Validation Error: 0.0067999958992004395\n",
      "Epoch: 0057 cost = 0.000824311\n",
      "Validation Error: 0.0073999762535095215\n",
      "Epoch: 0061 cost = 0.000489456\n",
      "Validation Error: 0.007200002670288086\n",
      "Epoch: 0065 cost = 0.000563592\n",
      "Validation Error: 0.006600022315979004\n",
      "Epoch: 0069 cost = 0.000292233\n",
      "Validation Error: 0.00700002908706665\n",
      "Epoch: 0073 cost = 0.000783792\n",
      "Validation Error: 0.004999995231628418\n",
      "Epoch: 0077 cost = 0.000380396\n",
      "Validation Error: 0.007600009441375732\n",
      "Epoch: 0081 cost = 0.000720396\n",
      "Validation Error: 0.006600022315979004\n",
      "Epoch: 0085 cost = 0.000403778\n",
      "Validation Error: 0.0055999755859375\n",
      "Epoch: 0089 cost = 0.000331509\n",
      "Validation Error: 0.005200028419494629\n",
      "Epoch: 0093 cost = 0.000487808\n",
      "Validation Error: 0.00700002908706665\n",
      "Epoch: 0097 cost = 0.000507141\n",
      "Validation Error: 0.007200002670288086\n",
      "Optimization Finished!\n",
      "Test Accuracy: 0.9933\n"
     ]
    }
   ],
   "source": [
    "if __name__ == '__main__':\n",
    "\n",
    "    with tf.device(\"/gpu:0\"):\n",
    "\n",
    "        with tf.Graph().as_default():\n",
    "\n",
    "            with tf.variable_scope(\"mnist_conv_model\"):\n",
    "\n",
    "                x = tf.placeholder(\"float\", [None, 784]) # mnist data image of shape 28*28=784\n",
    "                y = tf.placeholder(\"float\", [None, 10]) # 0-9 digits recognition => 10 classes\n",
    "                keep_prob = tf.placeholder(tf.float32) # dropout probability\n",
    "\n",
    "                output = inference(x, keep_prob)\n",
    "\n",
    "                cost = loss(output, y)\n",
    "\n",
    "                global_step = tf.Variable(0, name='global_step', trainable=False)\n",
    "\n",
    "                train_op = training(cost, global_step)\n",
    "\n",
    "                eval_op = evaluate(output, y)\n",
    "\n",
    "                summary_op = tf.summary.merge_all()\n",
    "\n",
    "                saver = tf.train.Saver()\n",
    "\n",
    "                sess = tf.Session()\n",
    "\n",
    "                summary_writer = tf.summary.FileWriter(\"conv_mnist_logs/\",\n",
    "                                                    graph_def=sess.graph_def)\n",
    "\n",
    "                \n",
    "                init_op = tf.global_variables_initializer()\n",
    "\n",
    "                sess.run(init_op)\n",
    "\n",
    "\n",
    "                # Training cycle\n",
    "                for epoch in range(training_epochs):\n",
    "\n",
    "                    avg_cost = 0.\n",
    "                    total_batch = int(mnist.train.num_examples/batch_size)\n",
    "                    # Loop over all batches\n",
    "                    for i in range(total_batch):\n",
    "                        minibatch_x, minibatch_y = mnist.train.next_batch(batch_size)\n",
    "                        # Fit training using batch data\n",
    "                        sess.run(train_op, feed_dict={x: minibatch_x, y: minibatch_y, keep_prob: 0.5})\n",
    "                        # Compute average loss\n",
    "                        avg_cost += sess.run(cost, feed_dict={x: minibatch_x,\n",
    "                                                              y: minibatch_y, keep_prob: 0.5})/total_batch\n",
    "                    # Display logs per epoch step\n",
    "                    if epoch % display_step == 0:\n",
    "                        print(\"Epoch:\", '%04d' % (epoch), \"cost =\", \"{:.9f}\".format(avg_cost))\n",
    "\n",
    "                        accuracy = sess.run(eval_op, feed_dict={x: mnist.validation.images,\n",
    "                                                                y: mnist.validation.labels, keep_prob: 1})\n",
    "\n",
    "                        print(\"Validation Error:\", (1 - accuracy))\n",
    "\n",
    "                        summary_str = sess.run(summary_op, feed_dict={x: minibatch_x, y: minibatch_y, keep_prob: 0.5})\n",
    "                        summary_writer.add_summary(summary_str, sess.run(global_step))\n",
    "\n",
    "                        saver.save(sess, \"conv_mnist_logs/model-checkpoint\", global_step=global_step)\n",
    "\n",
    "\n",
    "                print(\"Optimization Finished!\")\n",
    "\n",
    "\n",
    "                accuracy = sess.run(eval_op, feed_dict={x: mnist.test.images,\n",
    "                                                        y: mnist.test.labels, keep_prob: 1})\n",
    "\n",
    "                print(\"Test Accuracy:\", accuracy)"
   ]
  },
  {
   "cell_type": "code",
   "execution_count": null,
   "metadata": {},
   "outputs": [],
   "source": []
  }
 ],
 "metadata": {
  "kernelspec": {
   "display_name": "TensorFlow-GPU",
   "language": "python",
   "name": "tf-gpu"
  },
  "language_info": {
   "codemirror_mode": {
    "name": "ipython",
    "version": 3
   },
   "file_extension": ".py",
   "mimetype": "text/x-python",
   "name": "python",
   "nbconvert_exporter": "python",
   "pygments_lexer": "ipython3",
   "version": "3.6.6"
  }
 },
 "nbformat": 4,
 "nbformat_minor": 2
}
